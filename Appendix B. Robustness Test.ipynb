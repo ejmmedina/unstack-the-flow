{
 "cells": [
  {
   "cell_type": "markdown",
   "metadata": {},
   "source": [
    "## Appendix B. Robustness Test\n",
    "\n",
    "Due to the size of the database (**1.3M** python questions), sampling is done. \n",
    "However, due to the random nature of sampling, robustness of the sampling must be checked. In particular, the features and their weights were tested as to whether the results are similar for the different trials. This was done for 20 trials. Two validations are performed.\n",
    "1. Standard deviation of top features. The weight of the top features are compared across different sampled corpus.\n",
    "2. Jaccard similarity, $\\frac{A\\cap B}{A\\cup B}$. Using this, the total feature weights of each sampled corpus were compared with each other."
   ]
  },
  {
   "cell_type": "code",
   "execution_count": 1,
   "metadata": {
    "ExecuteTime": {
     "end_time": "2019-07-22T16:39:06.149603Z",
     "start_time": "2019-07-22T16:39:06.139741Z"
    }
   },
   "outputs": [],
   "source": [
    "import sqlite3\n",
    "conn = sqlite3.connect('/mnt/processed/private/msds2020/lt13/database/stackoverflow.db')"
   ]
  },
  {
   "cell_type": "markdown",
   "metadata": {},
   "source": [
    "### Appendix B.1. Random sampling\n",
    "\n",
    "SQL queries are not optimized for random sampling. As such, the sampling was done by randomly choosing indices (corresponding to the row identifier `Id`). To avoid long loops, the posts were sampled by thousands of the index (e.g. if the randomly chosen index is 231, rows with `Id` from 231000 to 231999 will be chosen. Note, however, that this does not imply 1000 consecutive posts will be chosen per iteration since the posts retain their unique ID even after filtering. In fact, only about tens of consecutive posts were sampled each iteration which is a tradeoff between speed and the bias of consecutive posts.\n",
    "\n",
    "The titles were vectorized using TF-IDF to account for the common terms in asking a question, e.g. \"how\". English stopwords were filtered along with the words \"using\" and \"use\". Moreover, the word \"python\" was also filtered since the posts were already filtered according to python and so, will only cause unwanted differences to the titles containing the word and those that do not. A word must also at least consist of two word characters and occurs in 0.1% of the corpus. Lastly, the vectors were binarized such that multiple occurrence of a word in the same title does not imply multiple importance of the word."
   ]
  },
  {
   "cell_type": "code",
   "execution_count": 3,
   "metadata": {
    "ExecuteTime": {
     "end_time": "2019-07-22T16:45:31.654979Z",
     "start_time": "2019-07-22T16:45:31.604168Z"
    }
   },
   "outputs": [],
   "source": [
    "from sklearn.feature_extraction.text import TfidfVectorizer\n",
    "# import nltk\n",
    "# nltk.download('stopwords')\n",
    "from nltk.corpus import stopwords\n",
    "import numpy as np\n",
    "from sklearn.decomposition import TruncatedSVD\n",
    "import pickle\n",
    "stop_words = stopwords.words('english') + ['python', 'using', 'use']\n",
    "\n",
    "\n",
    "def generate_samples(N, conn):\n",
    "    \"\"\"Sample 10000 rows from the database, vectorize the titles, reduce the\n",
    "    dimensions using truncatedSVD and store in a pickle file a dictionary \n",
    "    containing the following information:\n",
    "        bow : vectorized titles\n",
    "        feats : feature names corresponding to the columns of bow\n",
    "        posts : the sampled rows\n",
    "        trunc_elbow : tuple containing the number of PCs retained and the \n",
    "            truncated design matrix using the elbow method\n",
    "        trunc_0.8 : tuple containing the number of PCs retained and the \n",
    "            truncated design matrix using the 80% variance explained method\n",
    "    \"\"\"\n",
    "    cur = conn.cursor()\n",
    "    cur.execute(\"\"\"SELECT MAX(Id) FROM PostsQuestions\n",
    "            WHERE Id LIKE '________'\"\"\")\n",
    "\n",
    "    max_id = int(cur.fetchall()[0][0])\n",
    "    for trial_no in range(N):\n",
    "        print(trial_no)\n",
    "        idxs = list(range(max_id//1000))\n",
    "        posts = []\n",
    "        while len(posts) < 1e4:\n",
    "            idx = random.choice(idxs)\n",
    "            cur.execute(f\"\"\"SELECT DISTINCT * FROM PostsQuestions \n",
    "                        WHERE tags LIKE \"%python%\"\n",
    "                        AND AcceptedAnswerId IS NOT NULL\n",
    "                        AND Id BETWEEN {idx*1000} AND {idx*1000+999}\n",
    "                        AND Id LIKE '{idx}___'\"\"\")\n",
    "            posts.extend(cur.fetchall())\n",
    "            idxs.remove(idx)\n",
    "\n",
    "        tags = list(zip(*posts))\n",
    "        ids, titles = tags[0], tags[11]\n",
    "\n",
    "        tfidf_vectorizer = TfidfVectorizer(token_pattern='\\w{2,}',\n",
    "                                           stop_words=stop_words,\n",
    "                                           min_df=0.001,\n",
    "                                           binary=True)\n",
    "        bow = tfidf_vectorizer.fit_transform(titles)\n",
    "\n",
    "        V = np.cov(bow.toarray(), rowvar=False)\n",
    "\n",
    "        lambdas, w = np.linalg.eig(V)\n",
    "        indices = np.argsort(lambdas)[::-1]\n",
    "        lambdas = lambdas[indices]\n",
    "        w = w[:, indices]\n",
    "        var_explained = lambdas / lambdas.sum()\n",
    "        for m in range(len(var_explained)):\n",
    "            if var_explained[m] < 0.1*var_explained[0]:\n",
    "                break\n",
    "        m += 1\n",
    "        cum_var_explained = var_explained.cumsum()\n",
    "\n",
    "        n_PC = np.searchsorted(cum_var_explained, 0.8)\n",
    "\n",
    "        X = TruncatedSVD(n_components=n_PC).fit_transform(bow)\n",
    "        X_m = TruncatedSVD(n_components=m).fit_transform(bow)\n",
    "\n",
    "        feats = tfidf_vectorizer.get_feature_names()\n",
    "\n",
    "        files_ = {'bow': bow, 'feats': feats, 'posts': posts,\n",
    "                  'trunc_elbow': (m, X_m), 'trunc_0.8': (n_PC, X)}\n",
    "        pickle.dump(files_, open(\n",
    "            f'/mnt/processed/private/msds2020/lt13/pickle/robustness_trials/T{trial_no}', 'wb'))\n",
    "\n",
    "\n",
    "generate_samples(N=20, conn=conn)"
   ]
  },
  {
   "cell_type": "markdown",
   "metadata": {},
   "source": [
    "### Appendix B.2. Top features robustness\n",
    "\n",
    "One way to check robustness across different samples is by comparing the weights of the top features for each of the sampled corpus. But first, the top 10 features must first be identified."
   ]
  },
  {
   "cell_type": "code",
   "execution_count": 6,
   "metadata": {
    "ExecuteTime": {
     "end_time": "2019-07-22T16:54:46.448373Z",
     "start_time": "2019-07-22T16:54:32.981605Z"
    }
   },
   "outputs": [
    {
     "name": "stdout",
     "output_type": "stream",
     "text": [
      "['list', 'django', 'file', 'error', 'function', 'string', 'pandas', 'get', 'data', 'values']\n"
     ]
    }
   ],
   "source": [
    "T = []\n",
    "for t in range(20):\n",
    "    T.append(pickle.load(open(f'/mnt/processed/private/msds2020/lt13/pickle/robustness_trials/T{t}', 'rb')))\n",
    "wgts_base = []\n",
    "feats_base = []\n",
    "for t in T:\n",
    "    wgts_base.extend(list(t['bow'].toarray().sum(axis=0)))\n",
    "    feats_base.extend(t['feats'])\n",
    "    \n",
    "top_idx = np.argsort(np.array(wgts_base))[::-1]\n",
    "top_fts = list(zip(np.array(feats_base)[top_idx], np.array(wgts_base)[top_idx]))\n",
    "top_fts = list(dict(top_fts).keys())[:10]\n",
    "print(top_fts)"
   ]
  },
  {
   "cell_type": "code",
   "execution_count": 15,
   "metadata": {
    "ExecuteTime": {
     "end_time": "2019-07-22T17:01:48.199681Z",
     "start_time": "2019-07-22T17:01:26.997945Z"
    }
   },
   "outputs": [
    {
     "data": {
      "image/png": "[encoded data removed]",
      "text/plain": [
       "<Figure size 576x432 with 1 Axes>"
      ]
     },
     "metadata": {
      "needs_background": "light"
     },
     "output_type": "display_data"
    }
   ],
   "source": [
    "import pandas as pd\n",
    "import seaborn as sns\n",
    "import matplotlib.pyplot as plt\n",
    "%matplotlib inline\n",
    "\n",
    "fig, ax = plt.subplots(figsize=(8,6))\n",
    "df_feat = pd.DataFrame()\n",
    "for i in top_fts:\n",
    "    fts_wgt = []\n",
    "    for t in T:\n",
    "        try:\n",
    "            fts_idx = t['feats'].index(i)\n",
    "            fts_wgt.append(t['bow'].toarray()[:,fts_idx].sum())\n",
    "        except:\n",
    "            fts_wgt.append(0)\n",
    "    df_feat[i] = fts_wgt\n",
    "\n",
    "sns.boxplot(data=df_feat, ax=ax)\n",
    "ax.set_ylabel(\"Sum of TF-IDF weights\")\n",
    "ax.set_xlabel(\"Top features\");"
   ]
  },
  {
   "cell_type": "markdown",
   "metadata": {},
   "source": [
    "Looking at the weights, the values are consistent for the top 10 features. Using StandardScaler to check how many standard deviations the minimum and the maximum are:"
   ]
  },
  {
   "cell_type": "code",
   "execution_count": 16,
   "metadata": {
    "ExecuteTime": {
     "end_time": "2019-07-22T17:02:17.978696Z",
     "start_time": "2019-07-22T17:02:17.275319Z"
    }
   },
   "outputs": [
    {
     "data": {
      "image/png": "[encoded data removed]",
      "text/plain": [
       "<Figure size 576x432 with 1 Axes>"
      ]
     },
     "metadata": {
      "needs_background": "light"
     },
     "output_type": "display_data"
    }
   ],
   "source": [
    "from sklearn.preprocessing import StandardScaler\n",
    "\n",
    "scaler = StandardScaler()\n",
    "df_feat = pd.DataFrame(scaler.fit_transform(df_feat), columns=df_feat.columns)\n",
    "fig, ax = plt.subplots(figsize=(8,6))\n",
    "sns.boxplot(data=df_feat, ax=ax)\n",
    "ax.set_ylabel(\"Sum of TF-IDF weights\")\n",
    "ax.set_xlabel(\"Top features\");"
   ]
  },
  {
   "cell_type": "markdown",
   "metadata": {},
   "source": [
    "From which we see the features are within 2 standard deviations."
   ]
  },
  {
   "cell_type": "markdown",
   "metadata": {},
   "source": [
    "### Appendix B.3. Jaccard index for robustness\n",
    "\n",
    "Another method to check for robustness is to compute the pairwise Jaccard index of the different samples."
   ]
  },
  {
   "cell_type": "code",
   "execution_count": 17,
   "metadata": {
    "ExecuteTime": {
     "end_time": "2019-07-22T17:03:51.946102Z",
     "start_time": "2019-07-22T17:03:51.891683Z"
    },
    "code_folding": []
   },
   "outputs": [],
   "source": [
    "def jaccard(A, B, feats):\n",
    "    \"\"\"Calculate the Jaccard index of two sampled corpus.\n",
    "    \n",
    "    Parameters\n",
    "    ----------\n",
    "    A, B : dict\n",
    "        dictionary with features as keys and weights as values\n",
    "    feats : list of str\n",
    "        list of the feature names\n",
    "    \"\"\"\n",
    "    jacc_i = 0\n",
    "    for i in feats:\n",
    "        if A[i] > 0:\n",
    "            jacc_i += np.min([A[i], B.get(i, 0)]) / np.max([A[i], B.get(i, 0)])\n",
    "        else:\n",
    "            print(i)\n",
    "    jacc_i /= len(feats)\n",
    "    return jacc_i"
   ]
  },
  {
   "cell_type": "code",
   "execution_count": 21,
   "metadata": {
    "ExecuteTime": {
     "end_time": "2019-07-22T17:06:53.573926Z",
     "start_time": "2019-07-22T17:06:51.389636Z"
    }
   },
   "outputs": [
    {
     "data": {
      "text/plain": [
       "<matplotlib.colorbar.Colorbar at 0x7f47b8485470>"
      ]
     },
     "execution_count": 21,
     "metadata": {},
     "output_type": "execute_result"
    },
    {
     "data": {
      "image/png": "[encoded data removed]",
      "text/plain": [
       "<Figure size 576x576 with 2 Axes>"
      ]
     },
     "metadata": {
      "needs_background": "light"
     },
     "output_type": "display_data"
    }
   ],
   "source": [
    "jac_sim = np.zeros((20, 20))\n",
    "for i in range(20):\n",
    "    data_0 = pickle.load(open(\n",
    "        f'/mnt/processed/private/msds2020/lt13/pickle/robustness_trials/T{i}', 'rb'))\n",
    "\n",
    "    bow0 = data_0['bow']\n",
    "    wgt_0 = bow0.sum(axis=0)\n",
    "    feats_0 = data_0['feats']\n",
    "    A = dict(zip(feats_0, np.array(wgt_0).reshape(wgt_0.shape[1])))\n",
    "    for n in range(i, 20):\n",
    "        data_n = pickle.load(open(\n",
    "            f'/mnt/processed/private/msds2020/lt13/pickle/robustness_trials/T{n}', 'rb'))\n",
    "\n",
    "        bown = data_n['bow']\n",
    "        wgt_n = bown.sum(axis=0)\n",
    "        feats_n = data_n['feats']\n",
    "        B = dict(zip(feats_n, np.array(wgt_n).reshape(wgt_n.shape[1])))\n",
    "\n",
    "        jac_sim[i, n] = jaccard(A, B, feats_0)\n",
    "fig, ax = plt.subplots(figsize=(8, 8))\n",
    "im = ax.imshow(jac_sim, cmap='Blues')\n",
    "ax.set_xlabel(\"Sample\")\n",
    "ax.set_ylabel(\"Sample\")\n",
    "ax.set_xticks([i for i in range(0, 21, 2)])\n",
    "ax.set_yticks([i for i in range(0, 21, 2)])\n",
    "ax.set_xlim(0, 19)\n",
    "ax.set_ylim(0, 19)\n",
    "ax.set_xticklabels([i+1 for i in range(0, 20, 2)])\n",
    "ax.set_yticklabels([i+1 for i in range(0, 20, 2)])\n",
    "plt.colorbar(im, ax=ax)\n",
    "# fig.savefig('robustness.png', dpi=300)"
   ]
  },
  {
   "cell_type": "markdown",
   "metadata": {},
   "source": [
    "From which we see pairwise Jaccard index of at least 70%"
   ]
  }
 ],
 "metadata": {
  "kernelspec": {
   "display_name": "Python 3",
   "language": "python",
   "name": "python3"
  },
  "language_info": {
   "codemirror_mode": {
    "name": "ipython",
    "version": 3
   },
   "file_extension": ".py",
   "mimetype": "text/x-python",
   "name": "python",
   "nbconvert_exporter": "python",
   "pygments_lexer": "ipython3",
   "version": "3.7.5"
  },
  "toc": {
   "base_numbering": 1,
   "nav_menu": {},
   "number_sections": false,
   "sideBar": true,
   "skip_h1_title": false,
   "title_cell": "Table of Contents",
   "title_sidebar": "Contents",
   "toc_cell": false,
   "toc_position": {},
   "toc_section_display": true,
   "toc_window_display": false
  },
  "varInspector": {
   "cols": {
    "lenName": 16,
    "lenType": 16,
    "lenVar": 40
   },
   "kernels_config": {
    "python": {
     "delete_cmd_postfix": "",
     "delete_cmd_prefix": "del ",
     "library": "var_list.py",
     "varRefreshCmd": "print(var_dic_list())"
    },
    "r": {
     "delete_cmd_postfix": ") ",
     "delete_cmd_prefix": "rm(",
     "library": "var_list.r",
     "varRefreshCmd": "cat(var_dic_list()) "
    }
   },
   "types_to_exclude": [
    "module",
    "function",
    "builtin_function_or_method",
    "instance",
    "_Feature"
   ],
   "window_display": false
  }
 },
 "nbformat": 4,
 "nbformat_minor": 2
}
